{
  "nbformat": 4,
  "nbformat_minor": 0,
  "metadata": {
    "colab": {
      "name": "Boston Crime Prediction and Analysis",
      "provenance": [],
      "collapsed_sections": [
        "kpicd9_A-Fol",
        "pUayz6HOkARK",
        "d5HvvavyX3fD",
        "MviH7aSx_p9l",
        "tTQJo2n4_UpM",
        "6zoJfzqEXJ4q",
        "9YgaQCvVklEC",
        "paVue4IQ_2bD",
        "uwws7EbvC5yM",
        "fN_5rWfpDCmb",
        "x_zeM1PfoOv1",
        "7GOq3HcFcyuu",
        "KUHc7YUTl64a",
        "PE_WeiAmCGKS",
        "XlpgsDWdBZk4",
        "Zm38XMvUBwv9",
        "4svp4-BnBRFW",
        "AkQvUpmAB7E7",
        "KZ24uZ4ECUW3",
        "SP3BR-PmDP48",
        "1ZaK9g7wviQO",
        "UYZagv2UXJhq",
        "IYvGQelTWWkr"
      ],
      "include_colab_link": true
    },
    "kernelspec": {
      "name": "python3",
      "display_name": "Python 3"
    },
    "language_info": {
      "name": "python"
    }
  },
  "cells": [
    {
      "cell_type": "markdown",
      "metadata": {
        "id": "view-in-github",
        "colab_type": "text"
      },
      "source": [
        "<a href=\"https://colab.research.google.com/github/aadhityasw/Minority-Report/blob/main/Crime-Analysis/Boston_Crime_Prediction_and_Analysis.ipynb\" target=\"_parent\"><img src=\"https://colab.research.google.com/assets/colab-badge.svg\" alt=\"Open In Colab\"/></a>"
      ]
    },
    {
      "cell_type": "markdown",
      "metadata": {
        "id": "JLhYdGYo974a"
      },
      "source": [
        "# Boston Crime Prediction Analysis"
      ]
    },
    {
      "cell_type": "markdown",
      "metadata": {
        "id": "kpicd9_A-Fol"
      },
      "source": [
        "## 1. Import files and libraries\n",
        "\n",
        "Here, we load the dataset and have a quick look at its features."
      ]
    },
    {
      "cell_type": "code",
      "metadata": {
        "id": "Dj9ZYuHFaEPR"
      },
      "source": [
        "import numpy as np\n",
        "import pandas as pd\n",
        "from sklearn.model_selection import train_test_split"
      ],
      "execution_count": null,
      "outputs": []
    },
    {
      "cell_type": "code",
      "metadata": {
        "colab": {
          "base_uri": "https://localhost:8080/"
        },
        "id": "MZzvyJj1Bxwk",
        "outputId": "fd266e8e-6cf0-48c8-b4a1-3e75b27df60f"
      },
      "source": [
        "# Mount the drive\n",
        "from google.colab import drive\n",
        "drive.mount('/content/drive')\n",
        "\n",
        "# Copy the file from your drive to \"/content\"\n",
        "%cp \"/content/drive/My Drive/crime.csv\" \"/content/crime.csv\""
      ],
      "execution_count": null,
      "outputs": [
        {
          "output_type": "stream",
          "text": [
            "Mounted at /content/drive\n"
          ],
          "name": "stdout"
        }
      ]
    },
    {
      "cell_type": "code",
      "metadata": {
        "colab": {
          "base_uri": "https://localhost:8080/",
          "height": 360
        },
        "id": "mcKOLRoIg42s",
        "outputId": "c79c5260-e321-4f71-973b-32c39409dab0"
      },
      "source": [
        "df = pd.read_csv('crime.csv', encoding='latin-1')\n",
        "df.head()"
      ],
      "execution_count": null,
      "outputs": [
        {
          "output_type": "stream",
          "text": [
            "/usr/local/lib/python3.7/dist-packages/IPython/core/interactiveshell.py:2718: DtypeWarning: Columns (6) have mixed types.Specify dtype option on import or set low_memory=False.\n",
            "  interactivity=interactivity, compiler=compiler, result=result)\n"
          ],
          "name": "stderr"
        },
        {
          "output_type": "execute_result",
          "data": {
            "text/html": [
              "<div>\n",
              "<style scoped>\n",
              "    .dataframe tbody tr th:only-of-type {\n",
              "        vertical-align: middle;\n",
              "    }\n",
              "\n",
              "    .dataframe tbody tr th {\n",
              "        vertical-align: top;\n",
              "    }\n",
              "\n",
              "    .dataframe thead th {\n",
              "        text-align: right;\n",
              "    }\n",
              "</style>\n",
              "<table border=\"1\" class=\"dataframe\">\n",
              "  <thead>\n",
              "    <tr style=\"text-align: right;\">\n",
              "      <th></th>\n",
              "      <th>INCIDENT_NUMBER</th>\n",
              "      <th>OFFENSE_CODE</th>\n",
              "      <th>OFFENSE_CODE_GROUP</th>\n",
              "      <th>OFFENSE_DESCRIPTION</th>\n",
              "      <th>DISTRICT</th>\n",
              "      <th>REPORTING_AREA</th>\n",
              "      <th>SHOOTING</th>\n",
              "      <th>OCCURRED_ON_DATE</th>\n",
              "      <th>YEAR</th>\n",
              "      <th>MONTH</th>\n",
              "      <th>DAY_OF_WEEK</th>\n",
              "      <th>HOUR</th>\n",
              "      <th>UCR_PART</th>\n",
              "      <th>STREET</th>\n",
              "      <th>Lat</th>\n",
              "      <th>Long</th>\n",
              "      <th>Location</th>\n",
              "    </tr>\n",
              "  </thead>\n",
              "  <tbody>\n",
              "    <tr>\n",
              "      <th>0</th>\n",
              "      <td>I182080058</td>\n",
              "      <td>2403</td>\n",
              "      <td>Disorderly Conduct</td>\n",
              "      <td>DISTURBING THE PEACE</td>\n",
              "      <td>E18</td>\n",
              "      <td>495</td>\n",
              "      <td>NaN</td>\n",
              "      <td>2018-10-03 20:13:00</td>\n",
              "      <td>2018</td>\n",
              "      <td>10</td>\n",
              "      <td>Wednesday</td>\n",
              "      <td>20</td>\n",
              "      <td>Part Two</td>\n",
              "      <td>ARLINGTON ST</td>\n",
              "      <td>42.262608</td>\n",
              "      <td>-71.121186</td>\n",
              "      <td>(42.26260773, -71.12118637)</td>\n",
              "    </tr>\n",
              "    <tr>\n",
              "      <th>1</th>\n",
              "      <td>I182080053</td>\n",
              "      <td>3201</td>\n",
              "      <td>Property Lost</td>\n",
              "      <td>PROPERTY - LOST</td>\n",
              "      <td>D14</td>\n",
              "      <td>795</td>\n",
              "      <td>NaN</td>\n",
              "      <td>2018-08-30 20:00:00</td>\n",
              "      <td>2018</td>\n",
              "      <td>8</td>\n",
              "      <td>Thursday</td>\n",
              "      <td>20</td>\n",
              "      <td>Part Three</td>\n",
              "      <td>ALLSTON ST</td>\n",
              "      <td>42.352111</td>\n",
              "      <td>-71.135311</td>\n",
              "      <td>(42.35211146, -71.13531147)</td>\n",
              "    </tr>\n",
              "    <tr>\n",
              "      <th>2</th>\n",
              "      <td>I182080052</td>\n",
              "      <td>2647</td>\n",
              "      <td>Other</td>\n",
              "      <td>THREATS TO DO BODILY HARM</td>\n",
              "      <td>B2</td>\n",
              "      <td>329</td>\n",
              "      <td>NaN</td>\n",
              "      <td>2018-10-03 19:20:00</td>\n",
              "      <td>2018</td>\n",
              "      <td>10</td>\n",
              "      <td>Wednesday</td>\n",
              "      <td>19</td>\n",
              "      <td>Part Two</td>\n",
              "      <td>DEVON ST</td>\n",
              "      <td>42.308126</td>\n",
              "      <td>-71.076930</td>\n",
              "      <td>(42.30812619, -71.07692974)</td>\n",
              "    </tr>\n",
              "    <tr>\n",
              "      <th>3</th>\n",
              "      <td>I182080051</td>\n",
              "      <td>413</td>\n",
              "      <td>Aggravated Assault</td>\n",
              "      <td>ASSAULT - AGGRAVATED - BATTERY</td>\n",
              "      <td>A1</td>\n",
              "      <td>92</td>\n",
              "      <td>NaN</td>\n",
              "      <td>2018-10-03 20:00:00</td>\n",
              "      <td>2018</td>\n",
              "      <td>10</td>\n",
              "      <td>Wednesday</td>\n",
              "      <td>20</td>\n",
              "      <td>Part One</td>\n",
              "      <td>CAMBRIDGE ST</td>\n",
              "      <td>42.359454</td>\n",
              "      <td>-71.059648</td>\n",
              "      <td>(42.35945371, -71.05964817)</td>\n",
              "    </tr>\n",
              "    <tr>\n",
              "      <th>4</th>\n",
              "      <td>I182080050</td>\n",
              "      <td>3122</td>\n",
              "      <td>Aircraft</td>\n",
              "      <td>AIRCRAFT INCIDENTS</td>\n",
              "      <td>A7</td>\n",
              "      <td>36</td>\n",
              "      <td>NaN</td>\n",
              "      <td>2018-10-03 20:49:00</td>\n",
              "      <td>2018</td>\n",
              "      <td>10</td>\n",
              "      <td>Wednesday</td>\n",
              "      <td>20</td>\n",
              "      <td>Part Three</td>\n",
              "      <td>PRESCOTT ST</td>\n",
              "      <td>42.375258</td>\n",
              "      <td>-71.024663</td>\n",
              "      <td>(42.37525782, -71.02466343)</td>\n",
              "    </tr>\n",
              "  </tbody>\n",
              "</table>\n",
              "</div>"
            ],
            "text/plain": [
              "  INCIDENT_NUMBER  OFFENSE_CODE  ...       Long                     Location\n",
              "0      I182080058          2403  ... -71.121186  (42.26260773, -71.12118637)\n",
              "1      I182080053          3201  ... -71.135311  (42.35211146, -71.13531147)\n",
              "2      I182080052          2647  ... -71.076930  (42.30812619, -71.07692974)\n",
              "3      I182080051           413  ... -71.059648  (42.35945371, -71.05964817)\n",
              "4      I182080050          3122  ... -71.024663  (42.37525782, -71.02466343)\n",
              "\n",
              "[5 rows x 17 columns]"
            ]
          },
          "metadata": {
            "tags": []
          },
          "execution_count": 3
        }
      ]
    },
    {
      "cell_type": "code",
      "metadata": {
        "colab": {
          "base_uri": "https://localhost:8080/"
        },
        "id": "NJufK8B-INlA",
        "outputId": "2988e1ca-198f-493e-eecc-8a32c65eddaf"
      },
      "source": [
        "# To learn more about the dataset imported\n",
        "df.info()"
      ],
      "execution_count": null,
      "outputs": [
        {
          "output_type": "stream",
          "text": [
            "<class 'pandas.core.frame.DataFrame'>\n",
            "RangeIndex: 327820 entries, 0 to 327819\n",
            "Data columns (total 17 columns):\n",
            " #   Column               Non-Null Count   Dtype  \n",
            "---  ------               --------------   -----  \n",
            " 0   INCIDENT_NUMBER      327820 non-null  object \n",
            " 1   OFFENSE_CODE         327820 non-null  int64  \n",
            " 2   OFFENSE_CODE_GROUP   327820 non-null  object \n",
            " 3   OFFENSE_DESCRIPTION  327820 non-null  object \n",
            " 4   DISTRICT             326046 non-null  object \n",
            " 5   REPORTING_AREA       327820 non-null  object \n",
            " 6   SHOOTING             1055 non-null    object \n",
            " 7   OCCURRED_ON_DATE     327820 non-null  object \n",
            " 8   YEAR                 327820 non-null  int64  \n",
            " 9   MONTH                327820 non-null  int64  \n",
            " 10  DAY_OF_WEEK          327820 non-null  object \n",
            " 11  HOUR                 327820 non-null  int64  \n",
            " 12  UCR_PART             327727 non-null  object \n",
            " 13  STREET               316843 non-null  object \n",
            " 14  Lat                  307188 non-null  float64\n",
            " 15  Long                 307188 non-null  float64\n",
            " 16  Location             327820 non-null  object \n",
            "dtypes: float64(2), int64(4), object(11)\n",
            "memory usage: 42.5+ MB\n"
          ],
          "name": "stdout"
        }
      ]
    },
    {
      "cell_type": "markdown",
      "metadata": {
        "id": "pUayz6HOkARK"
      },
      "source": [
        "## 2. Pre Processing of dataset\n",
        "\n",
        "In this section, we create a copy of the dataset, perform the required pre-processing tasks to get the dataset ready for training."
      ]
    },
    {
      "cell_type": "markdown",
      "metadata": {
        "id": "d5HvvavyX3fD"
      },
      "source": [
        "### 2.1 Make a copy of the dataset\n",
        "\n",
        "In this section, we create a copy of the dataset and use this to perform the pre-processing and then the Modelling"
      ]
    },
    {
      "cell_type": "code",
      "metadata": {
        "id": "7zlqZhzqX70A"
      },
      "source": [
        "# Create a model\n",
        "\n",
        "df_model = df.copy()"
      ],
      "execution_count": null,
      "outputs": []
    },
    {
      "cell_type": "markdown",
      "metadata": {
        "id": "MviH7aSx_p9l"
      },
      "source": [
        "### 2.2 Minimize the dataset by Prioritization of crimes\n",
        "\n",
        "We choose the top `15` categories of crimes and minimize the dataset based on these. This is done so as to simplify the task and to deliver a model as fast as possible, and this model once successful can be scaled later for all categories of crimes."
      ]
    },
    {
      "cell_type": "code",
      "metadata": {
        "colab": {
          "base_uri": "https://localhost:8080/"
        },
        "id": "f2Rfg6V7hCXD",
        "outputId": "da25cf45-b23b-4fea-a866-4bb5624a0c84"
      },
      "source": [
        "# We extract the top 15 crimes by their count of occurance\n",
        "\n",
        "df_model['OFFENSE_CODE_GROUP'].value_counts().head(15)"
      ],
      "execution_count": null,
      "outputs": [
        {
          "output_type": "execute_result",
          "data": {
            "text/plain": [
              "Motor Vehicle Accident Response    38134\n",
              "Larceny                            26670\n",
              "Medical Assistance                 24226\n",
              "Investigate Person                 19176\n",
              "Other                              18612\n",
              "Drug Violation                     17037\n",
              "Simple Assault                     16263\n",
              "Vandalism                          15810\n",
              "Verbal Disputes                    13478\n",
              "Towed                              11632\n",
              "Investigate Property               11443\n",
              "Larceny From Motor Vehicle         11120\n",
              "Property Lost                      10077\n",
              "Warrant Arrests                     8579\n",
              "Aggravated Assault                  8033\n",
              "Name: OFFENSE_CODE_GROUP, dtype: int64"
            ]
          },
          "metadata": {
            "tags": []
          },
          "execution_count": 54
        }
      ]
    },
    {
      "cell_type": "code",
      "metadata": {
        "id": "yUi21dnIUBjA"
      },
      "source": [
        "# This is the list of all the categories we are going to choose\n",
        "\n",
        "choosen_offense_code_groups = (\n",
        "    'Motor Vehicle Accident Response',\n",
        "    'Larceny',\n",
        "    'Medical Assistance',\n",
        "    'Investigate Person',\n",
        "    'Other',\n",
        "    'Drug Violation',\n",
        "    'Simple Assault',\n",
        "    'Vandalism',\n",
        "    'Verbal Disputes',\n",
        "    'Towed',\n",
        "    'Investigate Property',\n",
        "    'Larceny From Motor Vehicle'\n",
        ")"
      ],
      "execution_count": null,
      "outputs": []
    },
    {
      "cell_type": "code",
      "metadata": {
        "id": "YtcbhFbIUoCh"
      },
      "source": [
        "# Create a minimised dataframe to store the values of crimes belonging to only these categories\n",
        "\n",
        "df_model = df.loc[df['OFFENSE_CODE_GROUP'].isin(choosen_offense_code_groups)]"
      ],
      "execution_count": null,
      "outputs": []
    },
    {
      "cell_type": "code",
      "metadata": {
        "colab": {
          "base_uri": "https://localhost:8080/",
          "height": 309
        },
        "id": "h3MP5X2cVAq0",
        "outputId": "0f46abde-6fc8-41c3-f13c-e495399f82f3"
      },
      "source": [
        "# Print this Miniatured dataset to understand its size\n",
        "\n",
        "df_model.head()"
      ],
      "execution_count": null,
      "outputs": [
        {
          "output_type": "execute_result",
          "data": {
            "text/html": [
              "<div>\n",
              "<style scoped>\n",
              "    .dataframe tbody tr th:only-of-type {\n",
              "        vertical-align: middle;\n",
              "    }\n",
              "\n",
              "    .dataframe tbody tr th {\n",
              "        vertical-align: top;\n",
              "    }\n",
              "\n",
              "    .dataframe thead th {\n",
              "        text-align: right;\n",
              "    }\n",
              "</style>\n",
              "<table border=\"1\" class=\"dataframe\">\n",
              "  <thead>\n",
              "    <tr style=\"text-align: right;\">\n",
              "      <th></th>\n",
              "      <th>INCIDENT_NUMBER</th>\n",
              "      <th>OFFENSE_CODE</th>\n",
              "      <th>OFFENSE_CODE_GROUP</th>\n",
              "      <th>OFFENSE_DESCRIPTION</th>\n",
              "      <th>DISTRICT</th>\n",
              "      <th>REPORTING_AREA</th>\n",
              "      <th>SHOOTING</th>\n",
              "      <th>OCCURRED_ON_DATE</th>\n",
              "      <th>YEAR</th>\n",
              "      <th>MONTH</th>\n",
              "      <th>DAY_OF_WEEK</th>\n",
              "      <th>HOUR</th>\n",
              "      <th>UCR_PART</th>\n",
              "      <th>STREET</th>\n",
              "      <th>Lat</th>\n",
              "      <th>Long</th>\n",
              "      <th>Location</th>\n",
              "    </tr>\n",
              "  </thead>\n",
              "  <tbody>\n",
              "    <tr>\n",
              "      <th>2</th>\n",
              "      <td>I182080052</td>\n",
              "      <td>2647</td>\n",
              "      <td>Other</td>\n",
              "      <td>THREATS TO DO BODILY HARM</td>\n",
              "      <td>B2</td>\n",
              "      <td>329</td>\n",
              "      <td>NaN</td>\n",
              "      <td>2018-10-03 19:20:00</td>\n",
              "      <td>2018</td>\n",
              "      <td>10</td>\n",
              "      <td>Wednesday</td>\n",
              "      <td>19</td>\n",
              "      <td>Part Two</td>\n",
              "      <td>DEVON ST</td>\n",
              "      <td>42.308126</td>\n",
              "      <td>-71.076930</td>\n",
              "      <td>(42.30812619, -71.07692974)</td>\n",
              "    </tr>\n",
              "    <tr>\n",
              "      <th>5</th>\n",
              "      <td>I182080049</td>\n",
              "      <td>1402</td>\n",
              "      <td>Vandalism</td>\n",
              "      <td>VANDALISM</td>\n",
              "      <td>C11</td>\n",
              "      <td>351</td>\n",
              "      <td>NaN</td>\n",
              "      <td>2018-10-02 20:40:00</td>\n",
              "      <td>2018</td>\n",
              "      <td>10</td>\n",
              "      <td>Tuesday</td>\n",
              "      <td>20</td>\n",
              "      <td>Part Two</td>\n",
              "      <td>DORCHESTER AVE</td>\n",
              "      <td>42.299197</td>\n",
              "      <td>-71.060470</td>\n",
              "      <td>(42.29919694, -71.06046974)</td>\n",
              "    </tr>\n",
              "    <tr>\n",
              "      <th>6</th>\n",
              "      <td>I182080048</td>\n",
              "      <td>3803</td>\n",
              "      <td>Motor Vehicle Accident Response</td>\n",
              "      <td>M/V ACCIDENT - PERSONAL INJURY</td>\n",
              "      <td>NaN</td>\n",
              "      <td></td>\n",
              "      <td>NaN</td>\n",
              "      <td>2018-10-03 20:16:00</td>\n",
              "      <td>2018</td>\n",
              "      <td>10</td>\n",
              "      <td>Wednesday</td>\n",
              "      <td>20</td>\n",
              "      <td>Part Three</td>\n",
              "      <td>NaN</td>\n",
              "      <td>42.320734</td>\n",
              "      <td>-71.056764</td>\n",
              "      <td>(42.32073413, -71.05676415)</td>\n",
              "    </tr>\n",
              "    <tr>\n",
              "      <th>7</th>\n",
              "      <td>I182080047</td>\n",
              "      <td>3301</td>\n",
              "      <td>Verbal Disputes</td>\n",
              "      <td>VERBAL DISPUTE</td>\n",
              "      <td>B2</td>\n",
              "      <td>603</td>\n",
              "      <td>NaN</td>\n",
              "      <td>2018-10-03 19:32:00</td>\n",
              "      <td>2018</td>\n",
              "      <td>10</td>\n",
              "      <td>Wednesday</td>\n",
              "      <td>19</td>\n",
              "      <td>Part Three</td>\n",
              "      <td>TREMONT ST</td>\n",
              "      <td>42.333807</td>\n",
              "      <td>-71.103778</td>\n",
              "      <td>(42.33380683, -71.10377843)</td>\n",
              "    </tr>\n",
              "    <tr>\n",
              "      <th>8</th>\n",
              "      <td>I182080045</td>\n",
              "      <td>802</td>\n",
              "      <td>Simple Assault</td>\n",
              "      <td>ASSAULT SIMPLE - BATTERY</td>\n",
              "      <td>E18</td>\n",
              "      <td>543</td>\n",
              "      <td>NaN</td>\n",
              "      <td>2018-10-03 19:27:51</td>\n",
              "      <td>2018</td>\n",
              "      <td>10</td>\n",
              "      <td>Wednesday</td>\n",
              "      <td>19</td>\n",
              "      <td>Part Two</td>\n",
              "      <td>AVILA RD</td>\n",
              "      <td>42.256145</td>\n",
              "      <td>-71.128025</td>\n",
              "      <td>(42.25614494, -71.12802506)</td>\n",
              "    </tr>\n",
              "  </tbody>\n",
              "</table>\n",
              "</div>"
            ],
            "text/plain": [
              "  INCIDENT_NUMBER  OFFENSE_CODE  ...       Long                     Location\n",
              "2      I182080052          2647  ... -71.076930  (42.30812619, -71.07692974)\n",
              "5      I182080049          1402  ... -71.060470  (42.29919694, -71.06046974)\n",
              "6      I182080048          3803  ... -71.056764  (42.32073413, -71.05676415)\n",
              "7      I182080047          3301  ... -71.103778  (42.33380683, -71.10377843)\n",
              "8      I182080045           802  ... -71.128025  (42.25614494, -71.12802506)\n",
              "\n",
              "[5 rows x 17 columns]"
            ]
          },
          "metadata": {
            "tags": []
          },
          "execution_count": 57
        }
      ]
    },
    {
      "cell_type": "markdown",
      "metadata": {
        "id": "tTQJo2n4_UpM"
      },
      "source": [
        "### 2.3 Converting Date of Occurance\n",
        "\n",
        "In this section, we will take the date in string, convert it into a python-datetime object, adn use it to extract the month, year, day of week and hour from this timestamp. Note that this has already been done."
      ]
    },
    {
      "cell_type": "code",
      "metadata": {
        "id": "3hMy9k1sj1H_",
        "colab": {
          "base_uri": "https://localhost:8080/"
        },
        "outputId": "e400ccc3-851f-449f-8db9-5479a63b866f"
      },
      "source": [
        "# Convert the date in string into a pandas timestamp\n",
        "\n",
        "df_model['OCCURRED_ON_DATE'] = pd.to_datetime(df_model['OCCURRED_ON_DATE'])"
      ],
      "execution_count": null,
      "outputs": [
        {
          "output_type": "stream",
          "text": [
            "/usr/local/lib/python3.7/dist-packages/ipykernel_launcher.py:3: SettingWithCopyWarning: \n",
            "A value is trying to be set on a copy of a slice from a DataFrame.\n",
            "Try using .loc[row_indexer,col_indexer] = value instead\n",
            "\n",
            "See the caveats in the documentation: https://pandas.pydata.org/pandas-docs/stable/user_guide/indexing.html#returning-a-view-versus-a-copy\n",
            "  This is separate from the ipykernel package so we can avoid doing imports until\n"
          ],
          "name": "stderr"
        }
      ]
    },
    {
      "cell_type": "markdown",
      "metadata": {
        "id": "6zoJfzqEXJ4q"
      },
      "source": [
        "### 2.4 Choose Necessary Columns\n",
        "\n",
        "In this section, we trim the columns of the dataset and extract only the necessary and useful columns from the dataset which might help in the Machine Learning Predictions"
      ]
    },
    {
      "cell_type": "code",
      "metadata": {
        "id": "cL3_H8xNaAfv"
      },
      "source": [
        "# This is the list of columns that we choose\n",
        "\n",
        "choosen_columns = [\n",
        "    'DISTRICT','REPORTING_AREA','MONTH','DAY_OF_WEEK', 'HOUR',\n",
        "    'UCR_PART', 'Lat','Long', 'OFFENSE_CODE_GROUP', 'OFFENSE_CODE'\n",
        "]"
      ],
      "execution_count": null,
      "outputs": []
    },
    {
      "cell_type": "code",
      "metadata": {
        "id": "2Hq0KfRxcSjS"
      },
      "source": [
        "# We trim the dataset with this choosen set of columns\n",
        "\n",
        "df_model = df_model[choosen_columns]"
      ],
      "execution_count": null,
      "outputs": []
    },
    {
      "cell_type": "code",
      "metadata": {
        "colab": {
          "base_uri": "https://localhost:8080/"
        },
        "id": "pBgRxbLofQsG",
        "outputId": "d2cad19c-e093-4799-8c7e-354ce3c59fb9"
      },
      "source": [
        "df_model.info()"
      ],
      "execution_count": null,
      "outputs": [
        {
          "output_type": "stream",
          "text": [
            "<class 'pandas.core.frame.DataFrame'>\n",
            "Int64Index: 223601 entries, 2 to 327813\n",
            "Data columns (total 10 columns):\n",
            " #   Column              Non-Null Count   Dtype  \n",
            "---  ------              --------------   -----  \n",
            " 0   DISTRICT            222350 non-null  object \n",
            " 1   REPORTING_AREA      223601 non-null  object \n",
            " 2   MONTH               223601 non-null  int64  \n",
            " 3   DAY_OF_WEEK         223601 non-null  object \n",
            " 4   HOUR                223601 non-null  int64  \n",
            " 5   UCR_PART            223601 non-null  object \n",
            " 6   Lat                 208742 non-null  float64\n",
            " 7   Long                208742 non-null  float64\n",
            " 8   OFFENSE_CODE_GROUP  223601 non-null  object \n",
            " 9   OFFENSE_CODE        223601 non-null  int64  \n",
            "dtypes: float64(2), int64(3), object(5)\n",
            "memory usage: 18.8+ MB\n"
          ],
          "name": "stdout"
        }
      ]
    },
    {
      "cell_type": "markdown",
      "metadata": {
        "id": "9YgaQCvVklEC"
      },
      "source": [
        "### 2.5  Map the offences to Day-time and Night-time\n",
        "\n",
        "We use the points taken out from the timestamp above which are the month and the hour of occurance and use these to map the crime to whether it was committed in day time or during the night.\n",
        "\n",
        "This can give insights to whether a trend exists corresponding to crimes and the time of day.\n",
        "\n",
        "We consider the daylight savings schedules to map the day and night for every month of the year into being `day` or `night`."
      ]
    },
    {
      "cell_type": "code",
      "metadata": {
        "id": "wOWG7cNqJNvP"
      },
      "source": [
        "# Create new columns which have 0 or 1 values denoting whether it was day or night\n",
        "# These are one hot encoded values\n",
        "\n",
        "df_model['Day'] = 0\n",
        "df_model['Night'] = 0"
      ],
      "execution_count": null,
      "outputs": []
    },
    {
      "cell_type": "code",
      "metadata": {
        "id": "5YP7_s0ykHC2",
        "colab": {
          "base_uri": "https://localhost:8080/"
        },
        "outputId": "463fcf12-dbb0-49cf-c588-029645e88fcb"
      },
      "source": [
        "# Map the daytime for each month based on the boston schedules of daylight savings, etc\n",
        "\n",
        "# Determining Daytime for January\n",
        "df_model['Day'].loc[(df_model['MONTH'] == 1) & (df_model['HOUR'] >= 6) & (df_model['HOUR'] <= 18)] = 1\n",
        "\n",
        "# Determining Daytime for Feburary\n",
        "df_model['Day'].loc[(df_model['MONTH'] == 2) & (df_model['HOUR'] >= 6) & (df_model['HOUR'] <= 19)] = 1\n",
        "\n",
        "# Determining Daytime for March\n",
        "df_model['Day'].loc[(df_model['MONTH'] == 3) & (df_model['HOUR'] >= 6) & (df_model['HOUR'] <= 20)] = 1\n",
        "\n",
        "# Determining Daytime for April\n",
        "df_model['Day'].loc[(df_model['MONTH'] == 4) & (df_model['HOUR'] >= 5) & (df_model['HOUR'] <= 20)] = 1\n",
        "\n",
        "# Determining Daytime for May\n",
        "df_model['Day'].loc[(df_model['MONTH'] == 5) & (df_model['HOUR'] >= 5) & (df_model['HOUR'] <= 21)] = 1\n",
        "\n",
        "# Determining Daytime for June\n",
        "df_model['Day'].loc[(df_model['MONTH'] == 6) & (df_model['HOUR'] >= 4) & (df_model['HOUR'] <= 21)] = 1\n",
        "\n",
        "# Determining Daytime July\n",
        "df_model['Day'].loc[(df_model['MONTH'] == 7) & (df_model['HOUR'] >= 5) & (df_model['HOUR'] <= 21)] = 1\n",
        "\n",
        "# Determining Daytime for August\n",
        "df_model['Day'].loc[(df_model['MONTH'] == 8) & (df_model['HOUR'] >= 5) & (df_model['HOUR'] <= 21)] = 1\n",
        "\n",
        "# Determining Daytime for September\n",
        "df_model['Day'].loc[(df_model['MONTH'] == 9) & (df_model['HOUR'] >= 6) & (df_model['HOUR'] <= 20)] = 1\n",
        "\n",
        "# Determining Daytime for October\n",
        "df_model['Day'].loc[(df_model['MONTH'] == 10) & (df_model['HOUR'] >= 6) & (df_model['HOUR'] <= 19)] = 1\n",
        "\n",
        "# Determining Daytime for November\n",
        "df_model['Day'].loc[(df_model['MONTH'] == 11) & (df_model['HOUR'] >= 6) & (df_model['HOUR'] <= 17)] = 1\n",
        "\n",
        "# Determining Daytime for December\n",
        "df_model['Day'].loc[(df_model['MONTH'] == 12) & (df_model['HOUR'] >= 7) & (df_model['HOUR'] <= 17)] = 1"
      ],
      "execution_count": null,
      "outputs": [
        {
          "output_type": "stream",
          "text": [
            "/usr/local/lib/python3.7/dist-packages/pandas/core/indexing.py:670: SettingWithCopyWarning: \n",
            "A value is trying to be set on a copy of a slice from a DataFrame\n",
            "\n",
            "See the caveats in the documentation: https://pandas.pydata.org/pandas-docs/stable/user_guide/indexing.html#returning-a-view-versus-a-copy\n",
            "  iloc._setitem_with_indexer(indexer, value)\n",
            "/usr/local/lib/python3.7/dist-packages/pandas/core/indexing.py:670: SettingWithCopyWarning: \n",
            "A value is trying to be set on a copy of a slice from a DataFrame\n",
            "\n",
            "See the caveats in the documentation: https://pandas.pydata.org/pandas-docs/stable/user_guide/indexing.html#returning-a-view-versus-a-copy\n",
            "  iloc._setitem_with_indexer(indexer, value)\n",
            "/usr/local/lib/python3.7/dist-packages/pandas/core/indexing.py:670: SettingWithCopyWarning: \n",
            "A value is trying to be set on a copy of a slice from a DataFrame\n",
            "\n",
            "See the caveats in the documentation: https://pandas.pydata.org/pandas-docs/stable/user_guide/indexing.html#returning-a-view-versus-a-copy\n",
            "  iloc._setitem_with_indexer(indexer, value)\n",
            "/usr/local/lib/python3.7/dist-packages/pandas/core/indexing.py:670: SettingWithCopyWarning: \n",
            "A value is trying to be set on a copy of a slice from a DataFrame\n",
            "\n",
            "See the caveats in the documentation: https://pandas.pydata.org/pandas-docs/stable/user_guide/indexing.html#returning-a-view-versus-a-copy\n",
            "  iloc._setitem_with_indexer(indexer, value)\n",
            "/usr/local/lib/python3.7/dist-packages/pandas/core/indexing.py:670: SettingWithCopyWarning: \n",
            "A value is trying to be set on a copy of a slice from a DataFrame\n",
            "\n",
            "See the caveats in the documentation: https://pandas.pydata.org/pandas-docs/stable/user_guide/indexing.html#returning-a-view-versus-a-copy\n",
            "  iloc._setitem_with_indexer(indexer, value)\n",
            "/usr/local/lib/python3.7/dist-packages/pandas/core/indexing.py:670: SettingWithCopyWarning: \n",
            "A value is trying to be set on a copy of a slice from a DataFrame\n",
            "\n",
            "See the caveats in the documentation: https://pandas.pydata.org/pandas-docs/stable/user_guide/indexing.html#returning-a-view-versus-a-copy\n",
            "  iloc._setitem_with_indexer(indexer, value)\n",
            "/usr/local/lib/python3.7/dist-packages/pandas/core/indexing.py:670: SettingWithCopyWarning: \n",
            "A value is trying to be set on a copy of a slice from a DataFrame\n",
            "\n",
            "See the caveats in the documentation: https://pandas.pydata.org/pandas-docs/stable/user_guide/indexing.html#returning-a-view-versus-a-copy\n",
            "  iloc._setitem_with_indexer(indexer, value)\n",
            "/usr/local/lib/python3.7/dist-packages/pandas/core/indexing.py:670: SettingWithCopyWarning: \n",
            "A value is trying to be set on a copy of a slice from a DataFrame\n",
            "\n",
            "See the caveats in the documentation: https://pandas.pydata.org/pandas-docs/stable/user_guide/indexing.html#returning-a-view-versus-a-copy\n",
            "  iloc._setitem_with_indexer(indexer, value)\n",
            "/usr/local/lib/python3.7/dist-packages/pandas/core/indexing.py:670: SettingWithCopyWarning: \n",
            "A value is trying to be set on a copy of a slice from a DataFrame\n",
            "\n",
            "See the caveats in the documentation: https://pandas.pydata.org/pandas-docs/stable/user_guide/indexing.html#returning-a-view-versus-a-copy\n",
            "  iloc._setitem_with_indexer(indexer, value)\n",
            "/usr/local/lib/python3.7/dist-packages/pandas/core/indexing.py:670: SettingWithCopyWarning: \n",
            "A value is trying to be set on a copy of a slice from a DataFrame\n",
            "\n",
            "See the caveats in the documentation: https://pandas.pydata.org/pandas-docs/stable/user_guide/indexing.html#returning-a-view-versus-a-copy\n",
            "  iloc._setitem_with_indexer(indexer, value)\n",
            "/usr/local/lib/python3.7/dist-packages/pandas/core/indexing.py:670: SettingWithCopyWarning: \n",
            "A value is trying to be set on a copy of a slice from a DataFrame\n",
            "\n",
            "See the caveats in the documentation: https://pandas.pydata.org/pandas-docs/stable/user_guide/indexing.html#returning-a-view-versus-a-copy\n",
            "  iloc._setitem_with_indexer(indexer, value)\n",
            "/usr/local/lib/python3.7/dist-packages/pandas/core/indexing.py:670: SettingWithCopyWarning: \n",
            "A value is trying to be set on a copy of a slice from a DataFrame\n",
            "\n",
            "See the caveats in the documentation: https://pandas.pydata.org/pandas-docs/stable/user_guide/indexing.html#returning-a-view-versus-a-copy\n",
            "  iloc._setitem_with_indexer(indexer, value)\n"
          ],
          "name": "stderr"
        }
      ]
    },
    {
      "cell_type": "code",
      "metadata": {
        "colab": {
          "base_uri": "https://localhost:8080/"
        },
        "id": "tg2doAYKMFMa",
        "outputId": "71f42e7e-2337-4a53-fdf4-bcb0dfdd0fc2"
      },
      "source": [
        "# Map the night time of the crimes\n",
        "# We use the fact that : If a record (crime row in dataset) has occured during the day, then it does not occur during the night and vice versa\n",
        "\n",
        "df_model['Night'].loc[df_model['Day']==0]=1"
      ],
      "execution_count": null,
      "outputs": [
        {
          "output_type": "stream",
          "text": [
            "/usr/local/lib/python3.7/dist-packages/pandas/core/indexing.py:670: SettingWithCopyWarning: \n",
            "A value is trying to be set on a copy of a slice from a DataFrame\n",
            "\n",
            "See the caveats in the documentation: https://pandas.pydata.org/pandas-docs/stable/user_guide/indexing.html#returning-a-view-versus-a-copy\n",
            "  iloc._setitem_with_indexer(indexer, value)\n"
          ],
          "name": "stderr"
        }
      ]
    },
    {
      "cell_type": "markdown",
      "metadata": {
        "id": "paVue4IQ_2bD"
      },
      "source": [
        "### 2.6 Map the District values\n",
        "\n",
        "We convert the district values which are its codes into numerical values as it better represents the districts during the training phase."
      ]
    },
    {
      "cell_type": "code",
      "metadata": {
        "colab": {
          "base_uri": "https://localhost:8080/"
        },
        "id": "vsKFmq-phOx6",
        "outputId": "5adfaa03-9775-4aaf-ee2b-bffbc1c153f8"
      },
      "source": [
        "# Find all the unique values of district codes\n",
        "\n",
        "df_model['DISTRICT'].unique()"
      ],
      "execution_count": null,
      "outputs": [
        {
          "output_type": "execute_result",
          "data": {
            "text/plain": [
              "array(['B2', 'C11', nan, 'E18', 'D4', 'D14', 'B3', 'C6', 'E13', 'A1',\n",
              "       'A7', 'A15', 'E5'], dtype=object)"
            ]
          },
          "metadata": {
            "tags": []
          },
          "execution_count": 65
        }
      ]
    },
    {
      "cell_type": "code",
      "metadata": {
        "id": "c6eqJzw4i10F"
      },
      "source": [
        "# Map these district codes to numerical values\n",
        "\n",
        "df_model['DISTRICT'] = df_model['DISTRICT'].map({\n",
        "    'B3':1, \n",
        "    'E18':2, \n",
        "    'B2':3, \n",
        "    'E5':4, \n",
        "    'C6':5, \n",
        "    'D14':6, \n",
        "    'E13':7, \n",
        "    'C11':8, \n",
        "    'D4':9, \n",
        "    'A7':10, \n",
        "    'A1':11, \n",
        "    'A15':12\n",
        "})"
      ],
      "execution_count": null,
      "outputs": []
    },
    {
      "cell_type": "markdown",
      "metadata": {
        "id": "uwws7EbvC5yM"
      },
      "source": [
        "### 2.7 Map the \"Reporting Area\" to numerical values\n",
        "\n",
        "We perform the same process as done for \"District\" values so as to keep these suitable for training phase"
      ]
    },
    {
      "cell_type": "code",
      "metadata": {
        "colab": {
          "base_uri": "https://localhost:8080/"
        },
        "id": "Ib5XnqX0iAKO",
        "outputId": "7c949d62-d944-418a-d39d-99063a8333a8"
      },
      "source": [
        "# To know the number of unique values of \"Reporting areas\"\n",
        "\n",
        "len(df_model['REPORTING_AREA'].unique())"
      ],
      "execution_count": null,
      "outputs": [
        {
          "output_type": "execute_result",
          "data": {
            "text/plain": [
              "880"
            ]
          },
          "metadata": {
            "tags": []
          },
          "execution_count": 67
        }
      ]
    },
    {
      "cell_type": "code",
      "metadata": {
        "id": "9LTWqDnAlehR"
      },
      "source": [
        "# We map these 880 values of \"Reporting areas\" into numerical values\n",
        "\n",
        "df_model['REPORTING_AREA'] = pd.to_numeric(df_model['REPORTING_AREA'], errors='coerce')"
      ],
      "execution_count": null,
      "outputs": []
    },
    {
      "cell_type": "markdown",
      "metadata": {
        "id": "fN_5rWfpDCmb"
      },
      "source": [
        "### 2.8 Map the \"Day of Week\" into Numerical Values\n",
        "\n",
        "As done for the above columns, we map the days of the week into numerical values from `1` to `7`"
      ]
    },
    {
      "cell_type": "code",
      "metadata": {
        "id": "4UdDKGLnltkS"
      },
      "source": [
        "# Map the days of the week into numerical values\n",
        "\n",
        "df_model['DAY_OF_WEEK'] = df_model['DAY_OF_WEEK'].map({\n",
        "    'Monday':1,\n",
        "    'Tuesday':2,\n",
        "    'Wednesday':3,\n",
        "    'Thursday':4,\n",
        "    'Friday':5,\n",
        "    'Saturday':6,\n",
        "    'Sunday':7\n",
        "})"
      ],
      "execution_count": null,
      "outputs": []
    },
    {
      "cell_type": "markdown",
      "metadata": {
        "id": "qLo3rpX1Jcsk"
      },
      "source": [
        "### 2.9 Map the \"Offence Group\" into Numerical Values"
      ]
    },
    {
      "cell_type": "code",
      "metadata": {
        "id": "H5Kqlg85JmKm"
      },
      "source": [
        "# Create a map for the offence groups\n",
        "\n",
        "offence_code_groups_mapping = {\n",
        "    'Motor Vehicle Accident Response':1, \n",
        "    'Larceny':2, \n",
        "    'Medical Assistance':3,\n",
        "    'Investigate Person':4, \n",
        "    'Other':5, \n",
        "    'Drug Violation':6, \n",
        "    'Simple Assault':7,\n",
        "    'Vandalism':8, \n",
        "    'Verbal Disputes':9, \n",
        "    'Towed':10, \n",
        "    'Investigate Property':11,\n",
        "    'Larceny From Motor Vehicle':12\n",
        "}"
      ],
      "execution_count": null,
      "outputs": []
    },
    {
      "cell_type": "code",
      "metadata": {
        "id": "7KOyLDrhKxxp"
      },
      "source": [
        "# Map these values\n",
        "\n",
        "df_model['OFFENSE_CODE_GROUP'] = df_model['OFFENSE_CODE_GROUP'].map(offence_code_groups_mapping)"
      ],
      "execution_count": null,
      "outputs": []
    },
    {
      "cell_type": "markdown",
      "metadata": {
        "id": "x_zeM1PfoOv1"
      },
      "source": [
        "### 2.10 Map `OFFENCE_CODE` Into Numerical Values\n",
        "\n",
        "In this section, we make sure that all the values in this column are numbers.\n",
        "Almost all the values here are numbers already, so this section is just a precaution."
      ]
    },
    {
      "cell_type": "code",
      "metadata": {
        "colab": {
          "base_uri": "https://localhost:8080/"
        },
        "id": "tT3Zg0AFovbx",
        "outputId": "e186d1e8-9fc9-4444-f13f-ca1593a8e2a2"
      },
      "source": [
        "# View the list of all offense codes\n",
        "\n",
        "df_model['OFFENSE_CODE'].value_counts()"
      ],
      "execution_count": null,
      "outputs": [
        {
          "output_type": "execute_result",
          "data": {
            "text/plain": [
              "3006    19360\n",
              "3115    19176\n",
              "3831    16730\n",
              "1402    15542\n",
              "802     15199\n",
              "        ...  \n",
              "637         1\n",
              "624         1\n",
              "627         1\n",
              "634         1\n",
              "1864        1\n",
              "Name: OFFENSE_CODE, Length: 93, dtype: int64"
            ]
          },
          "metadata": {
            "tags": []
          },
          "execution_count": 72
        }
      ]
    },
    {
      "cell_type": "code",
      "metadata": {
        "id": "_lLiwHtBoXMK"
      },
      "source": [
        "# Map the values of the \"Offence Codes\"\n",
        "\n",
        "df_model['OFFENSE_CODE'] = pd.to_numeric(df_model['OFFENSE_CODE'], errors='coerce')"
      ],
      "execution_count": null,
      "outputs": []
    },
    {
      "cell_type": "markdown",
      "metadata": {
        "id": "7GOq3HcFcyuu"
      },
      "source": [
        "### 2.11 Map the `UCR Part` into Numerical Values\n",
        "\n",
        "The `UCR_PART` is for the Uniform Crime Reporting Format which denotes the seriousness of the crime."
      ]
    },
    {
      "cell_type": "code",
      "metadata": {
        "id": "HPqO0ow6dHig",
        "colab": {
          "base_uri": "https://localhost:8080/"
        },
        "outputId": "47e7be9b-a1dd-40d3-e216-37fbbff6dfc0"
      },
      "source": [
        "# View the unique values for this parameter\n",
        "\n",
        "df_model['UCR_PART'].unique()"
      ],
      "execution_count": null,
      "outputs": [
        {
          "output_type": "execute_result",
          "data": {
            "text/plain": [
              "array(['Part Two', 'Part Three', 'Part One', 'Other'], dtype=object)"
            ]
          },
          "metadata": {
            "tags": []
          },
          "execution_count": 74
        }
      ]
    },
    {
      "cell_type": "code",
      "metadata": {
        "id": "gDCiRYSsdTwG"
      },
      "source": [
        "# Create a map for these values\n",
        "\n",
        "ucr_part_map = {\n",
        "    'Part Three':3, \n",
        "    'Part One':1, \n",
        "    'Part Two':2, \n",
        "    #'Other':4\n",
        "}"
      ],
      "execution_count": null,
      "outputs": []
    },
    {
      "cell_type": "code",
      "metadata": {
        "id": "8dtao8hFdu83"
      },
      "source": [
        "# Map these values into numbers\n",
        "\n",
        "df_model['UCR_PART'] = df_model['UCR_PART'].map(ucr_part_map)"
      ],
      "execution_count": null,
      "outputs": []
    },
    {
      "cell_type": "code",
      "metadata": {
        "id": "rU4gm2Ucd8Ka",
        "colab": {
          "base_uri": "https://localhost:8080/"
        },
        "outputId": "2469c1f2-5cd3-42d4-ab9c-17a5016f3df0"
      },
      "source": [
        "df_model['UCR_PART'].unique()"
      ],
      "execution_count": null,
      "outputs": [
        {
          "output_type": "execute_result",
          "data": {
            "text/plain": [
              "array([ 2.,  3.,  1., nan])"
            ]
          },
          "metadata": {
            "tags": []
          },
          "execution_count": 77
        }
      ]
    },
    {
      "cell_type": "markdown",
      "metadata": {
        "id": "KUHc7YUTl64a"
      },
      "source": [
        "### 2.12 Pre-Processed Dataset"
      ]
    },
    {
      "cell_type": "code",
      "metadata": {
        "colab": {
          "base_uri": "https://localhost:8080/"
        },
        "id": "qujLBMwzmDUt",
        "outputId": "11b945ed-c65a-49a9-e270-2ca147a35ee3"
      },
      "source": [
        "# View the final model which will be used for training\n",
        "\n",
        "df_model"
      ],
      "execution_count": null,
      "outputs": [
        {
          "output_type": "execute_result",
          "data": {
            "text/html": [
              "<div>\n",
              "<style scoped>\n",
              "    .dataframe tbody tr th:only-of-type {\n",
              "        vertical-align: middle;\n",
              "    }\n",
              "\n",
              "    .dataframe tbody tr th {\n",
              "        vertical-align: top;\n",
              "    }\n",
              "\n",
              "    .dataframe thead th {\n",
              "        text-align: right;\n",
              "    }\n",
              "</style>\n",
              "<table border=\"1\" class=\"dataframe\">\n",
              "  <thead>\n",
              "    <tr style=\"text-align: right;\">\n",
              "      <th></th>\n",
              "      <th>DISTRICT</th>\n",
              "      <th>REPORTING_AREA</th>\n",
              "      <th>MONTH</th>\n",
              "      <th>DAY_OF_WEEK</th>\n",
              "      <th>HOUR</th>\n",
              "      <th>UCR_PART</th>\n",
              "      <th>Lat</th>\n",
              "      <th>Long</th>\n",
              "      <th>OFFENSE_CODE_GROUP</th>\n",
              "      <th>OFFENSE_CODE</th>\n",
              "      <th>Day</th>\n",
              "      <th>Night</th>\n",
              "    </tr>\n",
              "  </thead>\n",
              "  <tbody>\n",
              "    <tr>\n",
              "      <th>2</th>\n",
              "      <td>3.0</td>\n",
              "      <td>329.0</td>\n",
              "      <td>10</td>\n",
              "      <td>3</td>\n",
              "      <td>19</td>\n",
              "      <td>2.0</td>\n",
              "      <td>42.308126</td>\n",
              "      <td>-71.076930</td>\n",
              "      <td>5</td>\n",
              "      <td>2647</td>\n",
              "      <td>1</td>\n",
              "      <td>0</td>\n",
              "    </tr>\n",
              "    <tr>\n",
              "      <th>5</th>\n",
              "      <td>8.0</td>\n",
              "      <td>351.0</td>\n",
              "      <td>10</td>\n",
              "      <td>2</td>\n",
              "      <td>20</td>\n",
              "      <td>2.0</td>\n",
              "      <td>42.299197</td>\n",
              "      <td>-71.060470</td>\n",
              "      <td>8</td>\n",
              "      <td>1402</td>\n",
              "      <td>0</td>\n",
              "      <td>1</td>\n",
              "    </tr>\n",
              "    <tr>\n",
              "      <th>6</th>\n",
              "      <td>NaN</td>\n",
              "      <td>NaN</td>\n",
              "      <td>10</td>\n",
              "      <td>3</td>\n",
              "      <td>20</td>\n",
              "      <td>3.0</td>\n",
              "      <td>42.320734</td>\n",
              "      <td>-71.056764</td>\n",
              "      <td>1</td>\n",
              "      <td>3803</td>\n",
              "      <td>0</td>\n",
              "      <td>1</td>\n",
              "    </tr>\n",
              "    <tr>\n",
              "      <th>7</th>\n",
              "      <td>3.0</td>\n",
              "      <td>603.0</td>\n",
              "      <td>10</td>\n",
              "      <td>3</td>\n",
              "      <td>19</td>\n",
              "      <td>3.0</td>\n",
              "      <td>42.333807</td>\n",
              "      <td>-71.103778</td>\n",
              "      <td>9</td>\n",
              "      <td>3301</td>\n",
              "      <td>1</td>\n",
              "      <td>0</td>\n",
              "    </tr>\n",
              "    <tr>\n",
              "      <th>8</th>\n",
              "      <td>2.0</td>\n",
              "      <td>543.0</td>\n",
              "      <td>10</td>\n",
              "      <td>3</td>\n",
              "      <td>19</td>\n",
              "      <td>2.0</td>\n",
              "      <td>42.256145</td>\n",
              "      <td>-71.128025</td>\n",
              "      <td>7</td>\n",
              "      <td>802</td>\n",
              "      <td>1</td>\n",
              "      <td>0</td>\n",
              "    </tr>\n",
              "    <tr>\n",
              "      <th>...</th>\n",
              "      <td>...</td>\n",
              "      <td>...</td>\n",
              "      <td>...</td>\n",
              "      <td>...</td>\n",
              "      <td>...</td>\n",
              "      <td>...</td>\n",
              "      <td>...</td>\n",
              "      <td>...</td>\n",
              "      <td>...</td>\n",
              "      <td>...</td>\n",
              "      <td>...</td>\n",
              "      <td>...</td>\n",
              "    </tr>\n",
              "    <tr>\n",
              "      <th>327797</th>\n",
              "      <td>3.0</td>\n",
              "      <td>318.0</td>\n",
              "      <td>10</td>\n",
              "      <td>5</td>\n",
              "      <td>21</td>\n",
              "      <td>2.0</td>\n",
              "      <td>42.311277</td>\n",
              "      <td>-71.089093</td>\n",
              "      <td>7</td>\n",
              "      <td>802</td>\n",
              "      <td>0</td>\n",
              "      <td>1</td>\n",
              "    </tr>\n",
              "    <tr>\n",
              "      <th>327799</th>\n",
              "      <td>9.0</td>\n",
              "      <td>285.0</td>\n",
              "      <td>6</td>\n",
              "      <td>7</td>\n",
              "      <td>17</td>\n",
              "      <td>1.0</td>\n",
              "      <td>42.336951</td>\n",
              "      <td>-71.085748</td>\n",
              "      <td>2</td>\n",
              "      <td>629</td>\n",
              "      <td>1</td>\n",
              "      <td>0</td>\n",
              "    </tr>\n",
              "    <tr>\n",
              "      <th>327811</th>\n",
              "      <td>11.0</td>\n",
              "      <td>111.0</td>\n",
              "      <td>8</td>\n",
              "      <td>3</td>\n",
              "      <td>12</td>\n",
              "      <td>2.0</td>\n",
              "      <td>42.352312</td>\n",
              "      <td>-71.063705</td>\n",
              "      <td>6</td>\n",
              "      <td>1848</td>\n",
              "      <td>1</td>\n",
              "      <td>0</td>\n",
              "    </tr>\n",
              "    <tr>\n",
              "      <th>327812</th>\n",
              "      <td>11.0</td>\n",
              "      <td>111.0</td>\n",
              "      <td>8</td>\n",
              "      <td>3</td>\n",
              "      <td>12</td>\n",
              "      <td>2.0</td>\n",
              "      <td>42.352312</td>\n",
              "      <td>-71.063705</td>\n",
              "      <td>6</td>\n",
              "      <td>1849</td>\n",
              "      <td>1</td>\n",
              "      <td>0</td>\n",
              "    </tr>\n",
              "    <tr>\n",
              "      <th>327813</th>\n",
              "      <td>7.0</td>\n",
              "      <td>912.0</td>\n",
              "      <td>1</td>\n",
              "      <td>6</td>\n",
              "      <td>14</td>\n",
              "      <td>2.0</td>\n",
              "      <td>42.322838</td>\n",
              "      <td>-71.100967</td>\n",
              "      <td>6</td>\n",
              "      <td>1864</td>\n",
              "      <td>1</td>\n",
              "      <td>0</td>\n",
              "    </tr>\n",
              "  </tbody>\n",
              "</table>\n",
              "<p>223601 rows × 12 columns</p>\n",
              "</div>"
            ],
            "text/plain": [
              "        DISTRICT  REPORTING_AREA  MONTH  ...  OFFENSE_CODE  Day  Night\n",
              "2            3.0           329.0     10  ...          2647    1      0\n",
              "5            8.0           351.0     10  ...          1402    0      1\n",
              "6            NaN             NaN     10  ...          3803    0      1\n",
              "7            3.0           603.0     10  ...          3301    1      0\n",
              "8            2.0           543.0     10  ...           802    1      0\n",
              "...          ...             ...    ...  ...           ...  ...    ...\n",
              "327797       3.0           318.0     10  ...           802    0      1\n",
              "327799       9.0           285.0      6  ...           629    1      0\n",
              "327811      11.0           111.0      8  ...          1848    1      0\n",
              "327812      11.0           111.0      8  ...          1849    1      0\n",
              "327813       7.0           912.0      1  ...          1864    1      0\n",
              "\n",
              "[223601 rows x 12 columns]"
            ]
          },
          "metadata": {
            "tags": []
          },
          "execution_count": 78
        }
      ]
    },
    {
      "cell_type": "code",
      "metadata": {
        "id": "YwRsYJsvM7MR",
        "colab": {
          "base_uri": "https://localhost:8080/"
        },
        "outputId": "10eb36b2-6b26-46c8-9586-470cb4b0fd5b"
      },
      "source": [
        "# There are a few NULL values in these columns\n",
        "# Each Method we take up in section 5 will have their own ways of handling these null values, so this is not touched upon here\n",
        "\n",
        "df_model.isnull().sum()"
      ],
      "execution_count": null,
      "outputs": [
        {
          "output_type": "execute_result",
          "data": {
            "text/plain": [
              "DISTRICT               1251\n",
              "REPORTING_AREA        15385\n",
              "MONTH                     0\n",
              "DAY_OF_WEEK               0\n",
              "HOUR                      0\n",
              "UCR_PART                 26\n",
              "Lat                   14859\n",
              "Long                  14859\n",
              "OFFENSE_CODE_GROUP        0\n",
              "OFFENSE_CODE              0\n",
              "Day                       0\n",
              "Night                     0\n",
              "dtype: int64"
            ]
          },
          "metadata": {
            "tags": []
          },
          "execution_count": 79
        }
      ]
    },
    {
      "cell_type": "markdown",
      "metadata": {
        "id": "l5b7p0bhAUQ9"
      },
      "source": [
        "## 3. Algorithms Design\n",
        "\n",
        "In this section, we define the Classification Algorithms that we will be using to perform the training"
      ]
    },
    {
      "cell_type": "code",
      "metadata": {
        "id": "Mg0TsedkBBbB",
        "colab": {
          "base_uri": "https://localhost:8080/"
        },
        "outputId": "4e54c688-dfd5-428a-fc1e-2d53ec8f08b2"
      },
      "source": [
        "# Import the classifiers used for creating the models\n",
        "from sklearn.tree import DecisionTreeClassifier\n",
        "from sklearn.naive_bayes import BernoulliNB\n",
        "from sklearn.tree import ExtraTreeClassifier\n",
        "from sklearn.neighbors import KNeighborsClassifier\n",
        "from sklearn.naive_bayes import GaussianNB\n",
        "#from sklearn.discriminant_analysis import LinearDiscriminantAnalysis\n",
        "#from sklearn.semi_supervised import LabelSpreading\n",
        "#from sklearn.svm import LinearSVC\n",
        "#from sklearn.neighbors.nearest_centroid import NearestCentroid\n",
        "from sklearn.ensemble import RandomForestClassifier\n",
        "from lightgbm import LGBMClassifier\n",
        "\n",
        "# Import the metrics libraries for comparinf the results from these algorithms\n",
        "from sklearn.metrics import f1_score, accuracy_score, confusion_matrix, precision_score, recall_score\n",
        "\n",
        "# Import plotting tools for plotting the scores obtained by the different algorithms\n",
        "import matplotlib.pyplot as plt"
      ],
      "execution_count": null,
      "outputs": [
        {
          "output_type": "stream",
          "text": [
            "/usr/local/lib/python3.7/dist-packages/sklearn/utils/deprecation.py:144: FutureWarning: The sklearn.neighbors.nearest_centroid module is  deprecated in version 0.22 and will be removed in version 0.24. The corresponding classes / functions should instead be imported from sklearn.neighbors. Anything that cannot be imported from sklearn.neighbors is now part of the private API.\n",
            "  warnings.warn(message, FutureWarning)\n"
          ],
          "name": "stderr"
        }
      ]
    },
    {
      "cell_type": "markdown",
      "metadata": {
        "id": "MBGzkVatCuSk"
      },
      "source": [
        "### 3.1 Results Evaluation\n",
        "\n",
        "We will define a function which takes in the result of a particlar algorithm and then uses it to find the scores based on the specfied evaluation metrics."
      ]
    },
    {
      "cell_type": "code",
      "metadata": {
        "id": "skYCBgFqCmBw"
      },
      "source": [
        "def fun_results(result):\n",
        "    print('mean: ' + str(result.mean()))\n",
        "    print('max: ' + str(result.max()))\n",
        "    print('min: ' + str(result.min()))\n",
        "    return result\n",
        "\n",
        "# Create a class for each type of ML classification we will do\n",
        "# Each model will use this object to put in their scores into this\n",
        "# We can later take all the scores for a category of classification to print the final result"
      ],
      "execution_count": null,
      "outputs": []
    },
    {
      "cell_type": "code",
      "metadata": {
        "id": "oI-wkw1CRhOX"
      },
      "source": [
        "class MLResultsAnalysis :\n",
        "\n",
        "    def __init__(self) :\n",
        "        \"\"\"\n",
        "        Initializes a dictoonary to store the results of all algorithms for a particular scenario\n",
        "        \"\"\"\n",
        "        self.results = {}\n",
        "\n",
        "\n",
        "    def calcPrecisionScore(self, Y_pred, Y_test) :\n",
        "        \"\"\"\n",
        "        Given the predicted and correct values of output parameter, calculates the precision score of prediction.\n",
        "\n",
        "        Parameters\n",
        "        ----------\n",
        "        Y_pred - The Predictions made by the algorithm\n",
        "        Y_test - The actual values of Y whose  was fed into the model to give out the prediction Y_pred\n",
        "\n",
        "        Return\n",
        "        ------\n",
        "        The Precision Score\n",
        "        \"\"\"\n",
        "\n",
        "        return precision_score(Y_test, Y_pred)\n",
        "    \n",
        "\n",
        "    def calcRecallScore(self, Y_pred, Y_test) :\n",
        "        \"\"\"\n",
        "        Given the predicted and correct values of output parameter, calculates the recall score of prediction.\n",
        "\n",
        "        Parameters\n",
        "        ----------\n",
        "        Y_pred - The Predictions made by the algorithm\n",
        "        Y_test - The actual values of Y whose  was fed into the model to give out the prediction Y_pred\n",
        "\n",
        "        Return\n",
        "        ------\n",
        "        The Recall Score\n",
        "        \"\"\"\n",
        "\n",
        "        return recall_score(Y_test, Y_pred)\n",
        "    \n",
        "\n",
        "    def calcF1Score(self, Y_pred, Y_test) :\n",
        "        \"\"\"\n",
        "        Given the predicted and correct values of output parameter, calculates the F1 score of prediction.\n",
        "\n",
        "        Parameters\n",
        "        ----------\n",
        "        Y_pred - The Predictions made by the algorithm\n",
        "        Y_test - The actual values of Y whose  was fed into the model to give out the prediction Y_pred\n",
        "\n",
        "        Return\n",
        "        ------\n",
        "        The F1 Score\n",
        "        \"\"\"\n",
        "\n",
        "        return f1_score(Y_test, Y_pred, average=None)\n",
        "    \n",
        "\n",
        "    def calcAccuracyScore(self, Y_pred, Y_test) :\n",
        "        \"\"\"\n",
        "        Given the predicted and correct values of output parameter, calculates the accuracy score of prediction.\n",
        "\n",
        "        Parameters\n",
        "        ----------\n",
        "        Y_pred - The Predictions made by the algorithm\n",
        "        Y_test - The actual values of Y whose  was fed into the model to give out the prediction Y_pred\n",
        "\n",
        "        Return\n",
        "        ------\n",
        "        The Accuracy Score\n",
        "        \"\"\"\n",
        "\n",
        "        return accuracy_score(Y_test, Y_pred)\n",
        "    \n",
        "\n",
        "    def calcConfusionMatrix(self, Y_pred, Y_test) :\n",
        "        \"\"\"\n",
        "        Given the predicted and correct values of output parameter, calculates the confusion matrix for the prediction.\n",
        "\n",
        "        Parameters\n",
        "        ----------\n",
        "        Y_pred - The Predictions made by the algorithm\n",
        "        Y_test - The actual values of Y whose  was fed into the model to give out the prediction Y_pred\n",
        "\n",
        "        Return\n",
        "        ------\n",
        "        The Confusion Matrix\n",
        "        \"\"\"\n",
        "\n",
        "        return confusion_matrix(Y_test, Y_pred)\n",
        "\n",
        "\n",
        "    def addResult(self, algo_name, Y_pred, Y_test) :\n",
        "        \"\"\"\n",
        "        Given the prediction values of an algorithm, calculates and stores the metric scores of the prediction made.\n",
        "\n",
        "        Parameters\n",
        "        ----------\n",
        "        algo_name - Name of the ML Algorithm which has invoked this function\n",
        "        Y_pred - The Predictions made by the algorithm\n",
        "        Y_test - The actual values of Y whose  was fed into the model to give out the prediction Y_pred\n",
        "        \"\"\"\n",
        "\n",
        "        # Initialize a dictionary to store all the calculated scores for this algorithm\n",
        "        cur_results = {}\n",
        "        \n",
        "        # Add in the Precision score\n",
        "        cur_results[\"precision\"] = self.calcPrecisionScore(Y_pred, Y_test)\n",
        "\n",
        "        # Add in the Recall score\n",
        "        cur_results[\"recall\"] = self.calcRecallScore(Y_pred, Y_test)\n",
        "\n",
        "        # Add in the Accuracy score\n",
        "        cur_results[\"accuracy\"] = self.calcAccuracyScore(Y_pred, Y_test)\n",
        "\n",
        "        # Add in the F1 score\n",
        "        cur_results[\"f1\"] = self.calcF1Score(Y_pred, Y_test)\n",
        "\n",
        "        # Add in the Confusion Matrix\n",
        "        cur_results[\"confusion_matrix\"] = self.calcConfusionMatrix(Y_pred, Y_test)\n",
        "\n",
        "        # Store the scores of this algorithm into the class variable, for consolidation of all algorithms for a particular scenario\n",
        "        self.results[algo_name] = cur_results\n",
        "    \n",
        "\n",
        "    def plotScores(self) :\n",
        "        \"\"\"\n",
        "        After calculating the scores of all the algorithms, plots the scores in a graph.\n",
        "        \"\"\"\n",
        "\n",
        "        # Initialize the list of metrics available to plot\n",
        "        metrics_available = [\"precision\", \"recall\", \"accuracy\", \"f1\"]\n",
        "\n",
        "        # Initialize an empty array to stores the like metric scores of all algorithms\n",
        "        scores = {item : [] for item in metrics_available}\n",
        "\n",
        "        # Initialize an array to store the names of all the algorithms used\n",
        "        algorithms_available = []\n",
        "\n",
        "        # Fill the algorithms and scores data structure\n",
        "        for key, value in self.results.items() :\n",
        "            algorithms_available.append(key)\n",
        "            for metric in metrics_available :\n",
        "                scores[metric].append(value[metric])\n",
        "        \n",
        "        # We will be making 4 sub-plots one for each metric\n",
        "        for i, metric in enumerate(metrics_available) :\n",
        "            # Initialize the sub-plot\n",
        "            plt.sub_plot(2, 2, i)\n",
        "\n",
        "            # Plot the metric's scores\n",
        "            plt.plot(algorithms_available, scores[metric])"
      ],
      "execution_count": null,
      "outputs": []
    },
    {
      "cell_type": "markdown",
      "metadata": {
        "id": "jZ4sa8OJA8xJ"
      },
      "source": [
        "### 3.2 Decision Trees"
      ]
    },
    {
      "cell_type": "code",
      "metadata": {
        "id": "N9xcSaX1A8B4"
      },
      "source": [
        "def DecisionTreeClassifier_Model(X_train, Y_train, X_test, Y_test, result_obj=None):\n",
        "\n",
        "    # Create a Decision Tree Classification Model and fit it on the training data\n",
        "    dec_tree_clf = DecisionTreeClassifier().fit(X_train, Y_train)\n",
        "    Y_pred = dec_tree_clf.predict(X_test)\n",
        "\n",
        "    dec_tree_score = f1_score(Y_test, Y_pred, average=None)\n",
        "    return fun_results(dec_tree_score)"
      ],
      "execution_count": null,
      "outputs": []
    },
    {
      "cell_type": "markdown",
      "metadata": {
        "id": "PE_WeiAmCGKS"
      },
      "source": [
        "### 3.3 Random Forest Classifier"
      ]
    },
    {
      "cell_type": "code",
      "metadata": {
        "id": "VSKNW23kB6Uk"
      },
      "source": [
        "def RandomForestClassifier_Model(X_train, Y_train, X_test, Y_test, result_obj=None):\n",
        "\n",
        "    # Create a Random Forest Classification Model and fit it on the training data\n",
        "    random_forest_clf = RandomForestClassifier().fit(X_train, Y_train)\n",
        "    Y_pred = random_forest_clf.predict(X_test)\n",
        "\n",
        "    rfc_score = f1_score(Y_test, Y_pred, average=None)\n",
        "    return fun_results(rfc_score)"
      ],
      "execution_count": null,
      "outputs": []
    },
    {
      "cell_type": "markdown",
      "metadata": {
        "id": "XlpgsDWdBZk4"
      },
      "source": [
        "### 3.4 Extra Tree Classifier\n",
        "\n",
        "**Extra Tree Classifier** is a type of ensemble learning technique which aggregates the results of multiple de-correlated decision trees collected in a “forest” to output it’s classification result. "
      ]
    },
    {
      "cell_type": "code",
      "metadata": {
        "id": "Y-QNJw1mBNQ6"
      },
      "source": [
        "def ExtraTreeClassifier_Model(X_train, Y_train, X_test, Y_test, result_obj=None):\n",
        "\n",
        "    # Create a Extra Tree Classification Model and fit it on the training data\n",
        "    ext_tree_clf = ExtraTreeClassifier().fit(X_train, Y_train)\n",
        "    Y_pred = ext_tree_clf.predict(X_test)\n",
        "\n",
        "    ext_tree_score = f1_score(Y_test, Y_pred, average=None)\n",
        "    return fun_results(ext_tree_score)"
      ],
      "execution_count": null,
      "outputs": []
    },
    {
      "cell_type": "markdown",
      "metadata": {
        "id": "Zm38XMvUBwv9"
      },
      "source": [
        "### 3.5 K-Nearest Neighbor Classifier"
      ]
    },
    {
      "cell_type": "code",
      "metadata": {
        "id": "CS74dhqOBNOI"
      },
      "source": [
        "def KNearestNeighborsClassifier_Model(X_train, Y_train, X_test, Y_test, result_obj=None):\n",
        "\n",
        "    # Create a K - Nearest Neighbor Classification Model and fit it on the training data\n",
        "    k_neighbor_clf = KNeighborsClassifier().fit(X_train, Y_train) \n",
        "    Y_pred = k_neighbor_clf.predict(X_test)\n",
        "\n",
        "    neigh_score = f1_score(Y_test, Y_pred, average=None)\n",
        "    return fun_results(neigh_score)"
      ],
      "execution_count": null,
      "outputs": []
    },
    {
      "cell_type": "markdown",
      "metadata": {
        "id": "4svp4-BnBRFW"
      },
      "source": [
        "### 3.6 Bernoulli Naive Bayes Classifier"
      ]
    },
    {
      "cell_type": "code",
      "metadata": {
        "id": "1NRdBd2OBNVp"
      },
      "source": [
        "def BernoulliNB_Model(X_train, Y_train, X_test, Y_test, result_obj=None):\n",
        "\n",
        "    # Create a Bernoulli Naive Bayes Classification Model and fit it on the training data\n",
        "    bernoulli_clf = BernoulliNB().fit(X_train, Y_train)\n",
        "    Y_pred = bernoulli_clf.predict(X_test)\n",
        "\n",
        "    bernoulli_score = f1_score(Y_test, Y_pred, average=None)\n",
        "    return fun_results(bernoulli_score)"
      ],
      "execution_count": null,
      "outputs": []
    },
    {
      "cell_type": "markdown",
      "metadata": {
        "id": "AkQvUpmAB7E7"
      },
      "source": [
        "### 3.7 Gaussian Naive Bayes Classifier"
      ]
    },
    {
      "cell_type": "code",
      "metadata": {
        "id": "lrB4jPZxB6Yl"
      },
      "source": [
        "def GaussianNB_Model(X_train, Y_train, X_test, Y_test, result_obj=None):\n",
        "\n",
        "    # Create a Gaussian Naive Bayes Classification Model and fit it on the training data\n",
        "    gauss_clf = GaussianNB().fit(X_train, Y_train)\n",
        "    Y_pred = gauss_clf.predict(X_test)\n",
        "\n",
        "    gauss_score = f1_score(Y_test, Y_pred, average=None)\n",
        "    return fun_results(gauss_score)"
      ],
      "execution_count": null,
      "outputs": []
    },
    {
      "cell_type": "markdown",
      "metadata": {
        "id": "KZ24uZ4ECUW3"
      },
      "source": [
        "### 3.8 Light GBM Classifier\n",
        "\n",
        "**Light GBM** is a gradient boosting framework that uses tree based learning algorithm. (Light Gradient Boosting Machine).\n",
        "Light GBM grows tree vertically while other algorithm grows trees horizontally meaning that Light GBM grows tree leaf-wise while other algorithm grows level-wise. It will choose the leaf with max delta loss to grow. "
      ]
    },
    {
      "cell_type": "code",
      "metadata": {
        "id": "GgPJHsUwB6Rc"
      },
      "source": [
        "def LGBM_Model(X_train, Y_train, X_test, Y_test, result_obj=None):\n",
        "\n",
        "    # Create a Light GBM Classification Model and fit it on the training data\n",
        "    lgbm_clf = LGBMClassifier().fit(X_train, Y_train)\n",
        "    Y_pred = lgbm_clf.predict(X_test)\n",
        "\n",
        "    clf_score = f1_score(Y_test, Y_pred, average=None)\n",
        "    return fun_results(clf_score)"
      ],
      "execution_count": null,
      "outputs": []
    },
    {
      "cell_type": "markdown",
      "metadata": {
        "id": "SP3BR-PmDP48"
      },
      "source": [
        "## 4. Modelling Scenarios\n",
        "\n",
        "In this section, we take up different scenarios in which ML based Pedictions can be useful, and what they mean for us, and also how the different classification models perform for these scenarios."
      ]
    },
    {
      "cell_type": "markdown",
      "metadata": {
        "id": "1ZaK9g7wviQO"
      },
      "source": [
        "### 4.1 Prediction of Future Crime Offence Categories\n",
        "\n",
        "In this section, we will explore the possibility of being able to predict the \"Offence Group\" of the crime that might happen in the future based on parameters like `date`, `time`, `location`, etc"
      ]
    },
    {
      "cell_type": "code",
      "metadata": {
        "id": "N7Ag4cuQvhny"
      },
      "source": [
        "# Create a copy of the dataset for this modelling\n",
        "\n",
        "df_model_1 = df_model.copy()"
      ],
      "execution_count": null,
      "outputs": []
    },
    {
      "cell_type": "code",
      "metadata": {
        "id": "qlyTZlVROhmg"
      },
      "source": [
        "# Handle the NULL values by replacing them to zeros\n",
        "\n",
        "df_model_1.fillna(0, inplace = True)"
      ],
      "execution_count": null,
      "outputs": []
    },
    {
      "cell_type": "code",
      "metadata": {
        "id": "uYcNy0QNQTKC"
      },
      "source": [
        "# Partition the columns into input and output variables for making predictions\n",
        "# X_1 => Input set of parameters\n",
        "# Y_1 => Output variable\n",
        "\n",
        "X_1 = df_model_1[['DISTRICT','REPORTING_AREA','MONTH','DAY_OF_WEEK','HOUR','Lat','Long','Day','Night']]\n",
        "Y_1 = df_model_1['OFFENSE_CODE_GROUP']"
      ],
      "execution_count": null,
      "outputs": []
    },
    {
      "cell_type": "code",
      "metadata": {
        "id": "qemNzD87Q7Vu",
        "colab": {
          "base_uri": "https://localhost:8080/"
        },
        "outputId": "a7963079-08c8-4534-d48d-ad22e1e662cb"
      },
      "source": [
        "# Split the dataframe into random train and test subsets\n",
        "\n",
        "X_train_1, X_test_1, Y_train_1, Y_test_1 = train_test_split(\n",
        "    X_1,\n",
        "    Y_1, \n",
        "    test_size = 0.1,\n",
        "    random_state=42\n",
        ")\n",
        "\n",
        "print(f\"Train Set Shape : ({X_train_1.shape}, {Y_train_1.shape})\")\n",
        "print(f\"Test Set Shape : ({X_test_1.shape}, {Y_test_1.shape})\")"
      ],
      "execution_count": null,
      "outputs": [
        {
          "output_type": "stream",
          "text": [
            "Train Set Shape : ((201240, 9), (201240,))\n",
            "Test Set Shape : ((22361, 9), (22361,))\n"
          ],
          "name": "stdout"
        }
      ]
    },
    {
      "cell_type": "code",
      "metadata": {
        "id": "So70WPSARbr3",
        "colab": {
          "base_uri": "https://localhost:8080/"
        },
        "outputId": "298cdd7f-70c5-4fa0-c980-a79599d656af"
      },
      "source": [
        "# Modelling based on different algorithms\n",
        "\n",
        "DecisionTreeClassifier_Model(X_train_1, Y_train_1, X_test_1, Y_test_1)\n",
        "RandomForestClassifier_Model(X_train_1, Y_train_1, X_test_1, Y_test_1)\n",
        "ExtraTreeClassifier_Model(X_train_1, Y_train_1, X_test_1, Y_test_1)\n",
        "KNearestNeighborsClassifier_Model(X_train_1, Y_train_1, X_test_1, Y_test_1)\n",
        "BernoulliNB_Model(X_train_1, Y_train_1, X_test_1, Y_test_1)\n",
        "GaussianNB_Model(X_train_1, Y_train_1, X_test_1, Y_test_1)\n",
        "LGBM_Model(X_train_1, Y_train_1, X_test_1, Y_test_1)"
      ],
      "execution_count": null,
      "outputs": [
        {
          "output_type": "stream",
          "text": [
            "mean: 0.207935288424812\n",
            "max: 0.48233314638250135\n",
            "min: 0.10470551573698972\n",
            "mean: 0.2387203634374697\n",
            "max: 0.5290102389078498\n",
            "min: 0.09872281670693821\n",
            "mean: 0.18769281102689536\n",
            "max: 0.46359832635983267\n",
            "min: 0.09226467847157502\n",
            "mean: 0.17734560867895388\n",
            "max: 0.3580034423407917\n",
            "min: 0.06781829814459374\n",
            "mean: 0.04918694379846069\n",
            "max: 0.2836893591535236\n",
            "min: 0.0\n",
            "mean: 0.06197873550466903\n",
            "max: 0.2630730659025788\n",
            "min: 0.0\n",
            "mean: 0.20067793617060695\n",
            "max: 0.40472489897419955\n",
            "min: 0.018007202881152463\n"
          ],
          "name": "stdout"
        },
        {
          "output_type": "execute_result",
          "data": {
            "text/plain": [
              "array([0.36109618, 0.4047249 , 0.17317073, 0.07883462, 0.09892086,\n",
              "       0.36897404, 0.09596929, 0.0180072 , 0.16586804, 0.3457424 ,\n",
              "       0.21297602, 0.08385093])"
            ]
          },
          "metadata": {
            "tags": []
          },
          "execution_count": 89
        }
      ]
    },
    {
      "cell_type": "code",
      "metadata": {
        "id": "9JmOMWgycneD"
      },
      "source": [
        ""
      ],
      "execution_count": null,
      "outputs": []
    },
    {
      "cell_type": "markdown",
      "metadata": {
        "id": "UYZagv2UXJhq"
      },
      "source": [
        "### 4.2 Prediction of Location of Future Crimes\n",
        "\n",
        "Use the `date` and the `offence type` to predict where or in which district a particular type of crime can occur."
      ]
    },
    {
      "cell_type": "code",
      "metadata": {
        "id": "NkAaIalKYzgR"
      },
      "source": [
        "# Create a copy of the dataset for this modelling\n",
        "\n",
        "df_model_2 = df_model.copy()"
      ],
      "execution_count": null,
      "outputs": []
    },
    {
      "cell_type": "code",
      "metadata": {
        "id": "uu0cIes7YzdL"
      },
      "source": [
        "# Handle the NULL values by dropping records that contain them\n",
        "\n",
        "df_model_2 = df_model_2.dropna()"
      ],
      "execution_count": null,
      "outputs": []
    },
    {
      "cell_type": "code",
      "metadata": {
        "id": "KkWeE91LbZiM"
      },
      "source": [
        "# Partition the columns into input and output variables for making predictions\n",
        "# X_2 => Input set of parameters\n",
        "# Y_2 => Output variable\n",
        "\n",
        "X_2 = df_model_2[['OFFENSE_CODE','MONTH','DAY_OF_WEEK','HOUR','Day','Night']]\n",
        "Y_2 = df_model_2['DISTRICT']"
      ],
      "execution_count": null,
      "outputs": []
    },
    {
      "cell_type": "code",
      "metadata": {
        "id": "mcagqJa_bZim",
        "colab": {
          "base_uri": "https://localhost:8080/"
        },
        "outputId": "4422be64-cb61-4011-edb7-ef3a3f075daf"
      },
      "source": [
        "# Split the dataframe into random train and test subsets\n",
        "\n",
        "X_train_2, X_test_2, Y_train_2, Y_test_2 = train_test_split(\n",
        "    X_2,\n",
        "    Y_2, \n",
        "    test_size = 0.1,\n",
        "    random_state=42\n",
        ")\n",
        "\n",
        "print(f\"Train Set Shape : ({X_train_2.shape}, {Y_train_2.shape})\")\n",
        "print(f\"Test Set Shape : ({X_test_2.shape}, {Y_test_2.shape})\")"
      ],
      "execution_count": null,
      "outputs": [
        {
          "output_type": "stream",
          "text": [
            "Train Set Shape : ((186048, 6), (186048,))\n",
            "Test Set Shape : ((20672, 6), (20672,))\n"
          ],
          "name": "stdout"
        }
      ]
    },
    {
      "cell_type": "code",
      "metadata": {
        "id": "jhS-8zqdbZin",
        "colab": {
          "base_uri": "https://localhost:8080/"
        },
        "outputId": "00dee00a-9f2a-4ff0-f9e3-bc4cf1b135e8"
      },
      "source": [
        "# Modelling based on different algorithms\n",
        "\n",
        "DecisionTreeClassifier_Model(X_train_2, Y_train_2, X_test_2, Y_test_2)\n",
        "RandomForestClassifier_Model(X_train_2, Y_train_2, X_test_2, Y_test_2)\n",
        "ExtraTreeClassifier_Model(X_train_2, Y_train_2, X_test_2, Y_test_2)\n",
        "KNearestNeighborsClassifier_Model(X_train_2, Y_train_2, X_test_2, Y_test_2)\n",
        "BernoulliNB_Model(X_train_2, Y_train_2, X_test_2, Y_test_2)\n",
        "GaussianNB_Model(X_train_2, Y_train_2, X_test_2, Y_test_2)\n",
        "LGBM_Model(X_train_2, Y_train_2, X_test_2, Y_test_2)"
      ],
      "execution_count": null,
      "outputs": [
        {
          "output_type": "stream",
          "text": [
            "mean: 0.10463349918737734\n",
            "max: 0.21859154929577462\n",
            "min: 0.0034482758620689655\n",
            "mean: 0.11194588600883465\n",
            "max: 0.23410168383194377\n",
            "min: 0.023494860499265784\n",
            "mean: 0.1070695878564991\n",
            "max: 0.22573363431151244\n",
            "min: 0.010452961672473867\n",
            "mean: 0.1041567220036687\n",
            "max: 0.22423214622197096\n",
            "min: 0.014519056261343014\n",
            "mean: 0.027088428590105615\n",
            "max: 0.2591089584151503\n",
            "min: 0.0\n",
            "mean: 0.07006252174277926\n",
            "max: 0.26329846427776543\n",
            "min: 0.0\n",
            "mean: 0.10584000373406115\n",
            "max: 0.3175684884830312\n",
            "min: 0.0\n"
          ],
          "name": "stdout"
        },
        {
          "output_type": "execute_result",
          "data": {
            "text/plain": [
              "array([0.13793103, 0.02058591, 0.25601769, 0.02649007, 0.06477733,\n",
              "       0.02442529, 0.00682594, 0.19800885, 0.31756849, 0.01051525,\n",
              "       0.20693421, 0.        ])"
            ]
          },
          "metadata": {
            "tags": []
          },
          "execution_count": 84
        }
      ]
    },
    {
      "cell_type": "code",
      "metadata": {
        "id": "Zznr4DRBcmXW"
      },
      "source": [
        ""
      ],
      "execution_count": null,
      "outputs": []
    },
    {
      "cell_type": "markdown",
      "metadata": {
        "id": "IYvGQelTWWkr"
      },
      "source": [
        "### 4.3 Prediction of the Seriousness of Crimes in the near Future\n",
        "\n",
        "This is based on the `UCR` parameter which stands for `Uniform Crime Reporting`\n",
        "\n",
        "This section deals with the prediction of the seriousness of the crime that might occur at a particular time and location.\n",
        "\n",
        "The `UCR_PART` has categories like part 1-3, with one being the most serious types of crimes."
      ]
    },
    {
      "cell_type": "code",
      "metadata": {
        "id": "6oey7qi_h548"
      },
      "source": [
        "# Create a copy of the dataset for this modelling\n",
        "\n",
        "df_model_3 = df_model.copy()"
      ],
      "execution_count": null,
      "outputs": []
    },
    {
      "cell_type": "code",
      "metadata": {
        "id": "bLdgrlxeh549"
      },
      "source": [
        "# Handle the NULL values by dropping records that contain them\n",
        "\n",
        "df_model_3 = df_model_3.dropna()"
      ],
      "execution_count": null,
      "outputs": []
    },
    {
      "cell_type": "code",
      "metadata": {
        "id": "bG56XanQh54-"
      },
      "source": [
        "# Partition the columns into input and output variables for making predictions\n",
        "# X_3 => Input set of parameters\n",
        "# Y_3 => Output variable\n",
        "\n",
        "X_3 = df_model_3[['DISTRICT','REPORTING_AREA', 'MONTH','DAY_OF_WEEK','HOUR','Lat','Long']]\n",
        "Y_3 = df_model_3['UCR_PART']"
      ],
      "execution_count": null,
      "outputs": []
    },
    {
      "cell_type": "code",
      "metadata": {
        "colab": {
          "base_uri": "https://localhost:8080/"
        },
        "id": "YTrVWZTjh54-",
        "outputId": "a935d404-0409-43c7-c10e-df86b32f2e64"
      },
      "source": [
        "# Split the dataframe into random train and test subsets\n",
        "\n",
        "X_train_3, X_test_3, Y_train_3, Y_test_3 = train_test_split(\n",
        "    X_3,\n",
        "    Y_3, \n",
        "    test_size = 0.1,\n",
        "    random_state=42\n",
        ")\n",
        "\n",
        "print(f\"Train Set Shape : ({X_train_3.shape}, {Y_train_3.shape})\")\n",
        "print(f\"Test Set Shape : ({X_test_3.shape}, {Y_test_3.shape})\")"
      ],
      "execution_count": null,
      "outputs": [
        {
          "output_type": "stream",
          "text": [
            "Train Set Shape : ((186048, 7), (186048,))\n",
            "Test Set Shape : ((20672, 7), (20672,))\n"
          ],
          "name": "stdout"
        }
      ]
    },
    {
      "cell_type": "code",
      "metadata": {
        "colab": {
          "base_uri": "https://localhost:8080/"
        },
        "id": "zsEW-yCAh54_",
        "outputId": "e13e5f9a-68c5-466d-92cb-24e2df7bd157"
      },
      "source": [
        "# Modelling based on different algorithms\n",
        "\n",
        "DecisionTreeClassifier_Model(X_train_3, Y_train_3, X_test_3, Y_test_3)\n",
        "RandomForestClassifier_Model(X_train_3, Y_train_3, X_test_3, Y_test_3)\n",
        "ExtraTreeClassifier_Model(X_train_3, Y_train_3, X_test_3, Y_test_3)\n",
        "KNearestNeighborsClassifier_Model(X_train_3, Y_train_3, X_test_3, Y_test_3)\n",
        "BernoulliNB_Model(X_train_3, Y_train_3, X_test_3, Y_test_3)\n",
        "GaussianNB_Model(X_train_3, Y_train_3, X_test_3, Y_test_3)\n",
        "LGBM_Model(X_train_3, Y_train_3, X_test_3, Y_test_3)"
      ],
      "execution_count": null,
      "outputs": [
        {
          "output_type": "stream",
          "text": [
            "mean: 0.45453698233938233\n",
            "max: 0.5943256303526147\n",
            "min: 0.3468071099407505\n",
            "mean: 0.49145448541656034\n",
            "max: 0.6921983511351175\n",
            "min: 0.3623822341857335\n",
            "mean: 0.4430550063354736\n",
            "max: 0.5909974861262628\n",
            "min: 0.32272606735613896\n",
            "mean: 0.4427394059264255\n",
            "max: 0.6010874034815188\n",
            "min: 0.3340653307713423\n",
            "mean: 0.22873682167592144\n",
            "max: 0.685886840432295\n",
            "min: 0.0\n",
            "mean: 0.22873682167592144\n",
            "max: 0.685886840432295\n",
            "min: 0.0\n",
            "mean: 0.41560243592475254\n",
            "max: 0.7024633657799487\n",
            "min: 0.2478837650031586\n"
          ],
          "name": "stdout"
        },
        {
          "output_type": "execute_result",
          "data": {
            "text/plain": [
              "array([0.29646018, 0.24788377, 0.70246337])"
            ]
          },
          "metadata": {
            "tags": []
          },
          "execution_count": 67
        }
      ]
    },
    {
      "cell_type": "code",
      "metadata": {
        "id": "LMHk6xO9jVZv"
      },
      "source": [
        ""
      ],
      "execution_count": null,
      "outputs": []
    }
  ]
}